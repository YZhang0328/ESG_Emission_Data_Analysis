{
 "cells": [
  {
   "cell_type": "code",
   "execution_count": 7,
   "id": "3a06ffef",
   "metadata": {},
   "outputs": [
    {
     "name": "stdout",
     "output_type": "stream",
     "text": [
      "   CompanyID OperatingCountry             GICS_Sector  \\\n",
      "0  MFID_0001               FI  Consumer Discretionary   \n",
      "1  MFID_0002               US             Industrials   \n",
      "2  MFID_0003               US             Industrials   \n",
      "\n",
      "                            GICS_Industry Group            GICS_Industry  \\\n",
      "0  Consumer Discretionary Distribution & Retail         Broadline Retail   \n",
      "1                                Transportation  Air Freight & Logistics   \n",
      "2                                 Capital Goods                Machinery   \n",
      "\n",
      "                               GICS_SubIndustry  MarketCap_USD  \\\n",
      "0                              Broadline Retail   9.009218e+08   \n",
      "1                       Air Freight & Logistics   7.805002e+09   \n",
      "2  Industrial Machinery & Supplies & Components   4.250030e+09   \n",
      "\n",
      "  MarketCap_Class    Sales_USD  Scope12_CarbonEmissions  ...  \\\n",
      "0       Small-cap   302.918892             12417.319222  ...   \n",
      "1         Mid-cap  8502.990086            397530.941716  ...   \n",
      "2         Mid-cap  1926.458515             40221.346118  ...   \n",
      "\n",
      "  Scope3_CarbonEmissions_Cat_5  Scope3_CarbonEmissions_Cat_6  \\\n",
      "0                   476.322933                    550.932269   \n",
      "1                 13473.544698                  17356.215781   \n",
      "2                  6696.571916                   3413.788585   \n",
      "\n",
      "   Scope3_CarbonEmissions_Cat_7  Scope3_CarbonEmissions_Cat_8  \\\n",
      "0                     70.492701                           0.0   \n",
      "1                  14471.270671                           0.0   \n",
      "2                   1944.829300                           0.0   \n",
      "\n",
      "   Scope3_CarbonEmissions_Cat_10  Scope3_CarbonEmissions_Cat_11  \\\n",
      "0                            0.0                       0.000000   \n",
      "1                            0.0                       0.000000   \n",
      "2                            0.0                  155069.812717   \n",
      "\n",
      "   Scope3_CarbonEmissions_Cat_12  Scope3_CarbonEmissions_Cat_13  \\\n",
      "0                    1142.744149                            0.0   \n",
      "1                   31763.405345                            0.0   \n",
      "2                   15744.117087                            0.0   \n",
      "\n",
      "   Scope3_CarbonEmissions_Cat_14  Scope3_CarbonEmissions_Cat_15  \n",
      "0                            NaN                            NaN  \n",
      "1                            NaN                            NaN  \n",
      "2                            NaN                            NaN  \n",
      "\n",
      "[3 rows x 26 columns]\n"
     ]
    }
   ],
   "source": [
    "import pandas as pd\n",
    "\n",
    "Emission_data = pd.read_excel(\"Emissions_Data_Analysis.xlsx\", sheet_name=\"Data\", header=0)\n",
    "print(Emission_data.head(3))"
   ]
  },
  {
   "cell_type": "code",
   "execution_count": null,
   "id": "edc4e491",
   "metadata": {},
   "outputs": [
    {
     "name": "stdout",
     "output_type": "stream",
     "text": [
      "      Scope3_Sum_Categories\n",
      "0              6.086799e+04\n",
      "1              1.728498e+06\n",
      "2              7.420561e+05\n",
      "3              1.483363e+06\n",
      "4              3.620477e+07\n",
      "...                     ...\n",
      "8391           3.685801e+05\n",
      "8392           1.565456e+07\n",
      "8393           1.792645e+08\n",
      "8394           2.399803e+07\n",
      "8395           3.007605e+06\n",
      "\n",
      "[8396 rows x 1 columns]\n"
     ]
    }
   ],
   "source": [
    "# Find all columns for Scope 3 categories (1 to 15)\n",
    "scope3_category_cols = [col for col in Emission_data.columns if col.startswith(\"Scope3_CarbonEmissions_Cat_\")]\n",
    "\n",
    "# Sum them to get total Scope 3 emissions from all 15 categories\n",
    "Emission_data[\"Scope3_sum_categories\"] = Emission_data[scope3_category_cols].sum(axis=1)\n",
    "\n",
    "print(Emission_data[[\"Scope3_Sum_Categories\"]])"
   ]
  },
  {
   "cell_type": "code",
   "execution_count": 16,
   "id": "b59d4c0c",
   "metadata": {},
   "outputs": [
    {
     "name": "stdout",
     "output_type": "stream",
     "text": [
      "8175\n"
     ]
    }
   ],
   "source": [
    "Emission_data['Scope3_Discrepancy'] = Emission_data['Scope3_CarbonEmissions_Estimated'] - Emission_data['Scope3_Sum_Categories']\n",
    "Emission_data['Scope3_Relative_Discrepancy'] = Emission_data['Scope3_Discrepancy'] / (Emission_data['Scope3_CarbonEmissions_Estimated'] + 1e-6)\n",
    "\n",
    "# Filter normal-range companies\n",
    "mask = (\n",
    "    (Emission_data['Scope3_CarbonEmissions_Estimated'] > 0) &\n",
    "    (Emission_data['Scope3_Sum_Categories'] > 0) &\n",
    "    (Emission_data['Scope3_Relative_Discrepancy'].abs() <= 0.2)\n",
    ")\n",
    "Emission_data = Emission_data[mask]\n",
    "\n",
    "# How many companies are left after filtering\n",
    "print(len(Emission_data))"
   ]
  },
  {
   "cell_type": "code",
   "execution_count": null,
   "id": "b714784a",
   "metadata": {},
   "outputs": [
    {
     "name": "stdout",
     "output_type": "stream",
     "text": [
      "GICS_Sector\n",
      "Energy                    3.074004e+10\n",
      "Industrials               2.253556e+10\n",
      "Materials                 1.893768e+10\n",
      "Consumer Discretionary    1.275764e+10\n",
      "Financials                1.066661e+10\n",
      "Name: Total_Emissions, dtype: float64\n",
      "The highest sector is Energy with total emissions of 30740042050.7063 tons CO2e.\n"
     ]
    }
   ],
   "source": [
    "# Adjusted Scope 3: weighted average of scope3 emissions favoring model estimate over category sum\n",
    "Emission_data['Adjusted_Est_Scope3'] = (\n",
    "    0.8 * Emission_data['Scope3_CarbonEmissions_Estimated'] +\n",
    "    0.2 * Emission_data['Scope3_Sum_Categories']\n",
    ")\n",
    "\n",
    "# Compare to company reported emissions, take max value of reported and adjusted\n",
    "Emission_data['Scope3_Emissions'] = Emission_data[['Adjusted_Est_Scope3', 'Scope3_CarbonEmissions_Reported']].max(axis=1)\n",
    "\n",
    "# Total emissions from Scope 1, 2, and 3\n",
    "Emission_data['Total_Emissions'] = Emission_data['Scope3_Emissions'] + Emission_data['Scope12_CarbonEmissions']\n",
    "\n",
    "# Group by sector and sum total emissions\n",
    "Sector_sum_of_total_emissions = Emission_data.groupby('GICS_Sector')['Total_Emissions'].sum().sort_values(ascending=False)\n",
    "\n",
    "print(Sector_sum_of_total_emissions.head())\n",
    "print(f\"The highest sector is {Sector_sum_of_total_emissions.idxmax()} with total emissions of {Sector_sum_of_total_emissions.max()} tons CO2 emission.\")"
   ]
  },
  {
   "cell_type": "code",
   "execution_count": null,
   "id": "4b596710",
   "metadata": {},
   "outputs": [],
   "source": []
  }
 ],
 "metadata": {
  "kernelspec": {
   "display_name": "base",
   "language": "python",
   "name": "python3"
  },
  "language_info": {
   "codemirror_mode": {
    "name": "ipython",
    "version": 3
   },
   "file_extension": ".py",
   "mimetype": "text/x-python",
   "name": "python",
   "nbconvert_exporter": "python",
   "pygments_lexer": "ipython3",
   "version": "3.11.7"
  }
 },
 "nbformat": 4,
 "nbformat_minor": 5
}
